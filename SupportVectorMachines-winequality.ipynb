{
 "cells": [
  {
   "cell_type": "code",
   "execution_count": 1,
   "metadata": {},
   "outputs": [],
   "source": [
    "import pandas as pd\n",
    "import numpy as np\n",
    "import seaborn as sns\n",
    "import matplotlib.pyplot as plt\n",
    "%matplotlib inline"
   ]
  },
  {
   "cell_type": "code",
   "execution_count": 2,
   "metadata": {},
   "outputs": [
    {
     "data": {
      "text/html": [
       "<div>\n",
       "<style scoped>\n",
       "    .dataframe tbody tr th:only-of-type {\n",
       "        vertical-align: middle;\n",
       "    }\n",
       "\n",
       "    .dataframe tbody tr th {\n",
       "        vertical-align: top;\n",
       "    }\n",
       "\n",
       "    .dataframe thead th {\n",
       "        text-align: right;\n",
       "    }\n",
       "</style>\n",
       "<table border=\"1\" class=\"dataframe\">\n",
       "  <thead>\n",
       "    <tr style=\"text-align: right;\">\n",
       "      <th></th>\n",
       "      <th>fixed acidity</th>\n",
       "      <th>volatile acidity</th>\n",
       "      <th>citric acid</th>\n",
       "      <th>residual sugar</th>\n",
       "      <th>chlorides</th>\n",
       "      <th>free sulfur dioxide</th>\n",
       "      <th>total sulfur dioxide</th>\n",
       "      <th>density</th>\n",
       "      <th>pH</th>\n",
       "      <th>sulphates</th>\n",
       "      <th>alcohol</th>\n",
       "      <th>quality</th>\n",
       "    </tr>\n",
       "  </thead>\n",
       "  <tbody>\n",
       "    <tr>\n",
       "      <th>0</th>\n",
       "      <td>7.0</td>\n",
       "      <td>0.27</td>\n",
       "      <td>0.36</td>\n",
       "      <td>20.7</td>\n",
       "      <td>0.045</td>\n",
       "      <td>45.0</td>\n",
       "      <td>170.0</td>\n",
       "      <td>1.0010</td>\n",
       "      <td>3.00</td>\n",
       "      <td>0.45</td>\n",
       "      <td>8.8</td>\n",
       "      <td>6</td>\n",
       "    </tr>\n",
       "    <tr>\n",
       "      <th>1</th>\n",
       "      <td>6.3</td>\n",
       "      <td>0.30</td>\n",
       "      <td>0.34</td>\n",
       "      <td>1.6</td>\n",
       "      <td>0.049</td>\n",
       "      <td>14.0</td>\n",
       "      <td>132.0</td>\n",
       "      <td>0.9940</td>\n",
       "      <td>3.30</td>\n",
       "      <td>0.49</td>\n",
       "      <td>9.5</td>\n",
       "      <td>6</td>\n",
       "    </tr>\n",
       "    <tr>\n",
       "      <th>2</th>\n",
       "      <td>8.1</td>\n",
       "      <td>0.28</td>\n",
       "      <td>0.40</td>\n",
       "      <td>6.9</td>\n",
       "      <td>0.050</td>\n",
       "      <td>30.0</td>\n",
       "      <td>97.0</td>\n",
       "      <td>0.9951</td>\n",
       "      <td>3.26</td>\n",
       "      <td>0.44</td>\n",
       "      <td>10.1</td>\n",
       "      <td>6</td>\n",
       "    </tr>\n",
       "    <tr>\n",
       "      <th>3</th>\n",
       "      <td>7.2</td>\n",
       "      <td>0.23</td>\n",
       "      <td>0.32</td>\n",
       "      <td>8.5</td>\n",
       "      <td>0.058</td>\n",
       "      <td>47.0</td>\n",
       "      <td>186.0</td>\n",
       "      <td>0.9956</td>\n",
       "      <td>3.19</td>\n",
       "      <td>0.40</td>\n",
       "      <td>9.9</td>\n",
       "      <td>6</td>\n",
       "    </tr>\n",
       "    <tr>\n",
       "      <th>4</th>\n",
       "      <td>7.2</td>\n",
       "      <td>0.23</td>\n",
       "      <td>0.32</td>\n",
       "      <td>8.5</td>\n",
       "      <td>0.058</td>\n",
       "      <td>47.0</td>\n",
       "      <td>186.0</td>\n",
       "      <td>0.9956</td>\n",
       "      <td>3.19</td>\n",
       "      <td>0.40</td>\n",
       "      <td>9.9</td>\n",
       "      <td>6</td>\n",
       "    </tr>\n",
       "  </tbody>\n",
       "</table>\n",
       "</div>"
      ],
      "text/plain": [
       "   fixed acidity  volatile acidity  citric acid  residual sugar  chlorides  \\\n",
       "0            7.0              0.27         0.36            20.7      0.045   \n",
       "1            6.3              0.30         0.34             1.6      0.049   \n",
       "2            8.1              0.28         0.40             6.9      0.050   \n",
       "3            7.2              0.23         0.32             8.5      0.058   \n",
       "4            7.2              0.23         0.32             8.5      0.058   \n",
       "\n",
       "   free sulfur dioxide  total sulfur dioxide  density    pH  sulphates  \\\n",
       "0                 45.0                 170.0   1.0010  3.00       0.45   \n",
       "1                 14.0                 132.0   0.9940  3.30       0.49   \n",
       "2                 30.0                  97.0   0.9951  3.26       0.44   \n",
       "3                 47.0                 186.0   0.9956  3.19       0.40   \n",
       "4                 47.0                 186.0   0.9956  3.19       0.40   \n",
       "\n",
       "   alcohol  quality  \n",
       "0      8.8        6  \n",
       "1      9.5        6  \n",
       "2     10.1        6  \n",
       "3      9.9        6  \n",
       "4      9.9        6  "
      ]
     },
     "execution_count": 2,
     "metadata": {},
     "output_type": "execute_result"
    }
   ],
   "source": [
    "df = pd.read_csv('winequality-white.csv',';')\n",
    "df.head()"
   ]
  },
  {
   "cell_type": "code",
   "execution_count": 3,
   "metadata": {},
   "outputs": [
    {
     "data": {
      "text/plain": [
       "(4898, 12)"
      ]
     },
     "execution_count": 3,
     "metadata": {},
     "output_type": "execute_result"
    }
   ],
   "source": [
    "df.shape"
   ]
  },
  {
   "cell_type": "code",
   "execution_count": 4,
   "metadata": {},
   "outputs": [
    {
     "name": "stdout",
     "output_type": "stream",
     "text": [
      "<class 'pandas.core.frame.DataFrame'>\n",
      "RangeIndex: 4898 entries, 0 to 4897\n",
      "Data columns (total 12 columns):\n",
      "fixed acidity           4898 non-null float64\n",
      "volatile acidity        4898 non-null float64\n",
      "citric acid             4898 non-null float64\n",
      "residual sugar          4898 non-null float64\n",
      "chlorides               4898 non-null float64\n",
      "free sulfur dioxide     4898 non-null float64\n",
      "total sulfur dioxide    4898 non-null float64\n",
      "density                 4898 non-null float64\n",
      "pH                      4898 non-null float64\n",
      "sulphates               4898 non-null float64\n",
      "alcohol                 4898 non-null float64\n",
      "quality                 4898 non-null int64\n",
      "dtypes: float64(11), int64(1)\n",
      "memory usage: 459.3 KB\n"
     ]
    }
   ],
   "source": [
    "df.info()"
   ]
  },
  {
   "cell_type": "code",
   "execution_count": 5,
   "metadata": {},
   "outputs": [
    {
     "data": {
      "image/png": "[encoded data removed]",
      "text/plain": [
       "<Figure size 432x288 with 1 Axes>"
      ]
     },
     "metadata": {
      "needs_background": "light"
     },
     "output_type": "display_data"
    }
   ],
   "source": [
    "sns.countplot(df['quality'])\n",
    "plt.show()"
   ]
  },
  {
   "cell_type": "code",
   "execution_count": 6,
   "metadata": {},
   "outputs": [
    {
     "data": {
      "image/png": "[encoded data removed]",
      "text/plain": [
       "<Figure size 720x1440 with 12 Axes>"
      ]
     },
     "metadata": {
      "needs_background": "light"
     },
     "output_type": "display_data"
    }
   ],
   "source": [
    "fig = plt.figure(figsize = (10, 20))\n",
    "j = 0\n",
    "for i in df:\n",
    "    plt.subplot(15, 4, j+1)\n",
    "    j += 1\n",
    "    sns.distplot(df[i], color='r', label = 'malignant')\n",
    "fig.suptitle('feature Analysis Results')\n",
    "fig.tight_layout()\n",
    "fig.subplots_adjust(top=0.95)\n",
    "plt.show()"
   ]
  },
  {
   "cell_type": "code",
   "execution_count": 7,
   "metadata": {},
   "outputs": [],
   "source": [
    "quality = df[\"quality\"].values\n",
    "category = []\n",
    "for num in quality:\n",
    "    if num < 4:\n",
    "        category.append(\"Low\")\n",
    "    elif num > 6:\n",
    "        category.append(\"High\")\n",
    "    else:\n",
    "        category.append(\"Medium\")"
   ]
  },
  {
   "cell_type": "code",
   "execution_count": 8,
   "metadata": {},
   "outputs": [
    {
     "data": {
      "text/plain": [
       "<matplotlib.axes._subplots.AxesSubplot at 0x1c09df97438>"
      ]
     },
     "execution_count": 8,
     "metadata": {},
     "output_type": "execute_result"
    },
    {
     "data": {
      "image/png": "[encoded data removed]",
      "text/plain": [
       "<Figure size 720x432 with 1 Axes>"
      ]
     },
     "metadata": {
      "needs_background": "light"
     },
     "output_type": "display_data"
    }
   ],
   "source": [
    "plt.figure(figsize=(10, 6))\n",
    "sns.countplot(category, palette=\"muted\")"
   ]
  },
  {
   "cell_type": "code",
   "execution_count": 9,
   "metadata": {},
   "outputs": [],
   "source": [
    "quality = df[\"quality\"].values\n",
    "category = []\n",
    "for num in quality:\n",
    "    if num < 5:\n",
    "        category.append(\"Low\")\n",
    "    elif num > 6:\n",
    "        category.append(\"High\")\n",
    "    else:\n",
    "        category.append(\"Midium\")\n",
    "category = pd.DataFrame(data=category, columns=[\"category\"])\n",
    "data = pd.concat([df, category], axis=1)\n",
    "data.drop(columns=\"quality\", axis=1, inplace=True)\n",
    "X = data.iloc[:, :-1].values\n",
    "y = data.iloc[:, -1].values"
   ]
  },
  {
   "cell_type": "code",
   "execution_count": 10,
   "metadata": {},
   "outputs": [],
   "source": [
    "from sklearn.model_selection import train_test_split, GridSearchCV, cross_val_score\n",
    "from sklearn.metrics import confusion_matrix, classification_report\n",
    "from sklearn.preprocessing import StandardScaler, LabelEncoder\n",
    "from sklearn.ensemble import RandomForestClassifier\n",
    "from sklearn.tree import DecisionTreeClassifier\n",
    "from imblearn.over_sampling import SMOTE\n",
    "from sklearn.model_selection import KFold\n",
    "from sklearn.svm import SVC\n",
    "import imblearn\n"
   ]
  },
  {
   "cell_type": "code",
   "execution_count": 11,
   "metadata": {},
   "outputs": [],
   "source": [
    "labelencoder_y = LabelEncoder()\n",
    "y = labelencoder_y.fit_transform(y)"
   ]
  },
  {
   "cell_type": "code",
   "execution_count": null,
   "metadata": {},
   "outputs": [],
   "source": []
  },
  {
   "cell_type": "code",
   "execution_count": 12,
   "metadata": {},
   "outputs": [],
   "source": [
    "from sklearn.preprocessing import scale\n",
    "X = scale(X)"
   ]
  },
  {
   "cell_type": "code",
   "execution_count": 13,
   "metadata": {},
   "outputs": [],
   "source": [
    "from sklearn.model_selection import train_test_split"
   ]
  },
  {
   "cell_type": "code",
   "execution_count": 14,
   "metadata": {},
   "outputs": [
    {
     "name": "stdout",
     "output_type": "stream",
     "text": [
      "(3918, 11) (980, 11) (3918,) (980,)\n"
     ]
    }
   ],
   "source": [
    "X_train,X_test,y_train,y_test = train_test_split(X,y,test_size = 0.2,random_state = 40)\n",
    "print(X_train.shape,X_test.shape,y_train.shape, y_test.shape)"
   ]
  },
  {
   "cell_type": "code",
   "execution_count": null,
   "metadata": {},
   "outputs": [],
   "source": []
  },
  {
   "cell_type": "code",
   "execution_count": 15,
   "metadata": {},
   "outputs": [],
   "source": [
    "from sklearn.svm import SVC"
   ]
  },
  {
   "cell_type": "code",
   "execution_count": 16,
   "metadata": {},
   "outputs": [],
   "source": [
    "clf = SVC(C = 1)\n",
    "model = clf.fit(X_train,y_train)"
   ]
  },
  {
   "cell_type": "code",
   "execution_count": 17,
   "metadata": {},
   "outputs": [],
   "source": [
    "y_pred = model.predict(X_test)\n",
    "#y_prob = model.predict_proba(X_test)"
   ]
  },
  {
   "cell_type": "code",
   "execution_count": 18,
   "metadata": {},
   "outputs": [
    {
     "data": {
      "text/plain": [
       "array([[ 82,   0, 133],\n",
       "       [  0,   1,  31],\n",
       "       [ 35,   0, 698]], dtype=int64)"
      ]
     },
     "execution_count": 18,
     "metadata": {},
     "output_type": "execute_result"
    }
   ],
   "source": [
    "from sklearn import metrics\n",
    "metrics.confusion_matrix(y_true=y_test,y_pred=y_pred)"
   ]
  },
  {
   "cell_type": "code",
   "execution_count": 19,
   "metadata": {},
   "outputs": [
    {
     "name": "stdout",
     "output_type": "stream",
     "text": [
      "accuracy 0.7969387755102041\n"
     ]
    }
   ],
   "source": [
    "print('accuracy',metrics.accuracy_score(y_test,y_pred))\n"
   ]
  },
  {
   "cell_type": "markdown",
   "metadata": {},
   "source": [
    "## K-Fold cross validation"
   ]
  },
  {
   "cell_type": "code",
   "execution_count": 20,
   "metadata": {},
   "outputs": [],
   "source": [
    "folds = KFold(n_splits = 5,shuffle = True,random_state = 4)\n",
    "\n",
    "hyper_params = [ {'gamma': [1e-2,1e-3,1e-4],\n",
    "                 'C': [1,10,100,1000]}]\n",
    "\n",
    "\n"
   ]
  },
  {
   "cell_type": "markdown",
   "metadata": {},
   "source": [
    "## GridSearchCV"
   ]
  },
  {
   "cell_type": "code",
   "execution_count": 21,
   "metadata": {},
   "outputs": [],
   "source": [
    "model = SVC()\n",
    "model_cv = GridSearchCV(estimator=model, param_grid=hyper_params,\n",
    "                       scoring='accuracy',\n",
    "                       cv = folds,\n",
    "                       verbose=1,\n",
    "                       return_train_score=True)"
   ]
  },
  {
   "cell_type": "code",
   "execution_count": 22,
   "metadata": {},
   "outputs": [
    {
     "name": "stdout",
     "output_type": "stream",
     "text": [
      "Fitting 5 folds for each of 12 candidates, totalling 60 fits\n"
     ]
    },
    {
     "name": "stderr",
     "output_type": "stream",
     "text": [
      "[Parallel(n_jobs=1)]: Using backend SequentialBackend with 1 concurrent workers.\n",
      "[Parallel(n_jobs=1)]: Done  60 out of  60 | elapsed:   57.2s finished\n"
     ]
    },
    {
     "data": {
      "text/plain": [
       "GridSearchCV(cv=KFold(n_splits=5, random_state=4, shuffle=True),\n",
       "             error_score=nan,\n",
       "             estimator=SVC(C=1.0, break_ties=False, cache_size=200,\n",
       "                           class_weight=None, coef0=0.0,\n",
       "                           decision_function_shape='ovr', degree=3,\n",
       "                           gamma='scale', kernel='rbf', max_iter=-1,\n",
       "                           probability=False, random_state=None, shrinking=True,\n",
       "                           tol=0.001, verbose=False),\n",
       "             iid='deprecated', n_jobs=None,\n",
       "             param_grid=[{'C': [1, 10, 100, 1000],\n",
       "                          'gamma': [0.01, 0.001, 0.0001]}],\n",
       "             pre_dispatch='2*n_jobs', refit=True, return_train_score=True,\n",
       "             scoring='accuracy', verbose=1)"
      ]
     },
     "execution_count": 22,
     "metadata": {},
     "output_type": "execute_result"
    }
   ],
   "source": [
    "model_cv.fit(X_train,y_train)"
   ]
  },
  {
   "cell_type": "code",
   "execution_count": 23,
   "metadata": {},
   "outputs": [],
   "source": [
    "y_pred_CV = model_cv.predict(X_test)\n"
   ]
  },
  {
   "cell_type": "code",
   "execution_count": 24,
   "metadata": {},
   "outputs": [
    {
     "data": {
      "text/html": [
       "<div>\n",
       "<style scoped>\n",
       "    .dataframe tbody tr th:only-of-type {\n",
       "        vertical-align: middle;\n",
       "    }\n",
       "\n",
       "    .dataframe tbody tr th {\n",
       "        vertical-align: top;\n",
       "    }\n",
       "\n",
       "    .dataframe thead th {\n",
       "        text-align: right;\n",
       "    }\n",
       "</style>\n",
       "<table border=\"1\" class=\"dataframe\">\n",
       "  <thead>\n",
       "    <tr style=\"text-align: right;\">\n",
       "      <th></th>\n",
       "      <th>mean_fit_time</th>\n",
       "      <th>std_fit_time</th>\n",
       "      <th>mean_score_time</th>\n",
       "      <th>std_score_time</th>\n",
       "      <th>param_C</th>\n",
       "      <th>param_gamma</th>\n",
       "      <th>params</th>\n",
       "      <th>split0_test_score</th>\n",
       "      <th>split1_test_score</th>\n",
       "      <th>split2_test_score</th>\n",
       "      <th>...</th>\n",
       "      <th>mean_test_score</th>\n",
       "      <th>std_test_score</th>\n",
       "      <th>rank_test_score</th>\n",
       "      <th>split0_train_score</th>\n",
       "      <th>split1_train_score</th>\n",
       "      <th>split2_train_score</th>\n",
       "      <th>split3_train_score</th>\n",
       "      <th>split4_train_score</th>\n",
       "      <th>mean_train_score</th>\n",
       "      <th>std_train_score</th>\n",
       "    </tr>\n",
       "  </thead>\n",
       "  <tbody>\n",
       "    <tr>\n",
       "      <th>0</th>\n",
       "      <td>0.374782</td>\n",
       "      <td>0.013059</td>\n",
       "      <td>0.049778</td>\n",
       "      <td>0.001159</td>\n",
       "      <td>1</td>\n",
       "      <td>0.01</td>\n",
       "      <td>{'C': 1, 'gamma': 0.01}</td>\n",
       "      <td>0.776786</td>\n",
       "      <td>0.734694</td>\n",
       "      <td>0.770408</td>\n",
       "      <td>...</td>\n",
       "      <td>0.752674</td>\n",
       "      <td>0.018008</td>\n",
       "      <td>6</td>\n",
       "      <td>0.748883</td>\n",
       "      <td>0.755584</td>\n",
       "      <td>0.757817</td>\n",
       "      <td>0.758214</td>\n",
       "      <td>0.753748</td>\n",
       "      <td>0.754849</td>\n",
       "      <td>0.003390</td>\n",
       "    </tr>\n",
       "    <tr>\n",
       "      <th>1</th>\n",
       "      <td>0.374785</td>\n",
       "      <td>0.005761</td>\n",
       "      <td>0.050571</td>\n",
       "      <td>0.001019</td>\n",
       "      <td>1</td>\n",
       "      <td>0.001</td>\n",
       "      <td>{'C': 1, 'gamma': 0.001}</td>\n",
       "      <td>0.765306</td>\n",
       "      <td>0.728316</td>\n",
       "      <td>0.762755</td>\n",
       "      <td>...</td>\n",
       "      <td>0.745784</td>\n",
       "      <td>0.016363</td>\n",
       "      <td>7</td>\n",
       "      <td>0.740906</td>\n",
       "      <td>0.750160</td>\n",
       "      <td>0.741544</td>\n",
       "      <td>0.745774</td>\n",
       "      <td>0.750558</td>\n",
       "      <td>0.745788</td>\n",
       "      <td>0.004092</td>\n",
       "    </tr>\n",
       "    <tr>\n",
       "      <th>2</th>\n",
       "      <td>0.275645</td>\n",
       "      <td>0.006309</td>\n",
       "      <td>0.048572</td>\n",
       "      <td>0.000799</td>\n",
       "      <td>1</td>\n",
       "      <td>0.0001</td>\n",
       "      <td>{'C': 1, 'gamma': 0.0001}</td>\n",
       "      <td>0.765306</td>\n",
       "      <td>0.728316</td>\n",
       "      <td>0.762755</td>\n",
       "      <td>...</td>\n",
       "      <td>0.745784</td>\n",
       "      <td>0.016363</td>\n",
       "      <td>7</td>\n",
       "      <td>0.740906</td>\n",
       "      <td>0.750160</td>\n",
       "      <td>0.741544</td>\n",
       "      <td>0.745774</td>\n",
       "      <td>0.750558</td>\n",
       "      <td>0.745788</td>\n",
       "      <td>0.004092</td>\n",
       "    </tr>\n",
       "    <tr>\n",
       "      <th>3</th>\n",
       "      <td>0.403369</td>\n",
       "      <td>0.008683</td>\n",
       "      <td>0.050971</td>\n",
       "      <td>0.004042</td>\n",
       "      <td>10</td>\n",
       "      <td>0.01</td>\n",
       "      <td>{'C': 10, 'gamma': 0.01}</td>\n",
       "      <td>0.792092</td>\n",
       "      <td>0.765306</td>\n",
       "      <td>0.778061</td>\n",
       "      <td>...</td>\n",
       "      <td>0.774882</td>\n",
       "      <td>0.009765</td>\n",
       "      <td>3</td>\n",
       "      <td>0.779515</td>\n",
       "      <td>0.787811</td>\n",
       "      <td>0.782068</td>\n",
       "      <td>0.786922</td>\n",
       "      <td>0.781499</td>\n",
       "      <td>0.783563</td>\n",
       "      <td>0.003231</td>\n",
       "    </tr>\n",
       "    <tr>\n",
       "      <th>4</th>\n",
       "      <td>0.415366</td>\n",
       "      <td>0.027915</td>\n",
       "      <td>0.048975</td>\n",
       "      <td>0.000894</td>\n",
       "      <td>10</td>\n",
       "      <td>0.001</td>\n",
       "      <td>{'C': 10, 'gamma': 0.001}</td>\n",
       "      <td>0.765306</td>\n",
       "      <td>0.728316</td>\n",
       "      <td>0.762755</td>\n",
       "      <td>...</td>\n",
       "      <td>0.745784</td>\n",
       "      <td>0.016363</td>\n",
       "      <td>7</td>\n",
       "      <td>0.740906</td>\n",
       "      <td>0.750160</td>\n",
       "      <td>0.741544</td>\n",
       "      <td>0.745774</td>\n",
       "      <td>0.750558</td>\n",
       "      <td>0.745788</td>\n",
       "      <td>0.004092</td>\n",
       "    </tr>\n",
       "    <tr>\n",
       "      <th>5</th>\n",
       "      <td>0.374588</td>\n",
       "      <td>0.011132</td>\n",
       "      <td>0.052567</td>\n",
       "      <td>0.001486</td>\n",
       "      <td>10</td>\n",
       "      <td>0.0001</td>\n",
       "      <td>{'C': 10, 'gamma': 0.0001}</td>\n",
       "      <td>0.765306</td>\n",
       "      <td>0.728316</td>\n",
       "      <td>0.762755</td>\n",
       "      <td>...</td>\n",
       "      <td>0.745784</td>\n",
       "      <td>0.016363</td>\n",
       "      <td>7</td>\n",
       "      <td>0.740906</td>\n",
       "      <td>0.750160</td>\n",
       "      <td>0.741544</td>\n",
       "      <td>0.745774</td>\n",
       "      <td>0.750558</td>\n",
       "      <td>0.745788</td>\n",
       "      <td>0.004092</td>\n",
       "    </tr>\n",
       "    <tr>\n",
       "      <th>6</th>\n",
       "      <td>0.730795</td>\n",
       "      <td>0.015093</td>\n",
       "      <td>0.048369</td>\n",
       "      <td>0.001847</td>\n",
       "      <td>100</td>\n",
       "      <td>0.01</td>\n",
       "      <td>{'C': 100, 'gamma': 0.01}</td>\n",
       "      <td>0.798469</td>\n",
       "      <td>0.771684</td>\n",
       "      <td>0.781888</td>\n",
       "      <td>...</td>\n",
       "      <td>0.781519</td>\n",
       "      <td>0.009079</td>\n",
       "      <td>2</td>\n",
       "      <td>0.797064</td>\n",
       "      <td>0.804403</td>\n",
       "      <td>0.797703</td>\n",
       "      <td>0.804147</td>\n",
       "      <td>0.801914</td>\n",
       "      <td>0.801046</td>\n",
       "      <td>0.003120</td>\n",
       "    </tr>\n",
       "    <tr>\n",
       "      <th>7</th>\n",
       "      <td>0.495323</td>\n",
       "      <td>0.023871</td>\n",
       "      <td>0.049375</td>\n",
       "      <td>0.000802</td>\n",
       "      <td>100</td>\n",
       "      <td>0.001</td>\n",
       "      <td>{'C': 100, 'gamma': 0.001}</td>\n",
       "      <td>0.780612</td>\n",
       "      <td>0.744898</td>\n",
       "      <td>0.776786</td>\n",
       "      <td>...</td>\n",
       "      <td>0.758033</td>\n",
       "      <td>0.017494</td>\n",
       "      <td>5</td>\n",
       "      <td>0.763242</td>\n",
       "      <td>0.759413</td>\n",
       "      <td>0.764199</td>\n",
       "      <td>0.763955</td>\n",
       "      <td>0.758852</td>\n",
       "      <td>0.761932</td>\n",
       "      <td>0.002314</td>\n",
       "    </tr>\n",
       "    <tr>\n",
       "      <th>8</th>\n",
       "      <td>0.721383</td>\n",
       "      <td>0.071988</td>\n",
       "      <td>0.068562</td>\n",
       "      <td>0.007224</td>\n",
       "      <td>100</td>\n",
       "      <td>0.0001</td>\n",
       "      <td>{'C': 100, 'gamma': 0.0001}</td>\n",
       "      <td>0.765306</td>\n",
       "      <td>0.728316</td>\n",
       "      <td>0.762755</td>\n",
       "      <td>...</td>\n",
       "      <td>0.745784</td>\n",
       "      <td>0.016363</td>\n",
       "      <td>7</td>\n",
       "      <td>0.740906</td>\n",
       "      <td>0.750160</td>\n",
       "      <td>0.741544</td>\n",
       "      <td>0.745774</td>\n",
       "      <td>0.750558</td>\n",
       "      <td>0.745788</td>\n",
       "      <td>0.004092</td>\n",
       "    </tr>\n",
       "    <tr>\n",
       "      <th>9</th>\n",
       "      <td>2.577715</td>\n",
       "      <td>0.098415</td>\n",
       "      <td>0.047385</td>\n",
       "      <td>0.000485</td>\n",
       "      <td>1000</td>\n",
       "      <td>0.01</td>\n",
       "      <td>{'C': 1000, 'gamma': 0.01}</td>\n",
       "      <td>0.798469</td>\n",
       "      <td>0.781888</td>\n",
       "      <td>0.784439</td>\n",
       "      <td>...</td>\n",
       "      <td>0.785347</td>\n",
       "      <td>0.007256</td>\n",
       "      <td>1</td>\n",
       "      <td>0.821634</td>\n",
       "      <td>0.829611</td>\n",
       "      <td>0.823548</td>\n",
       "      <td>0.823604</td>\n",
       "      <td>0.823923</td>\n",
       "      <td>0.824464</td>\n",
       "      <td>0.002697</td>\n",
       "    </tr>\n",
       "    <tr>\n",
       "      <th>10</th>\n",
       "      <td>0.908487</td>\n",
       "      <td>0.117934</td>\n",
       "      <td>0.047376</td>\n",
       "      <td>0.000487</td>\n",
       "      <td>1000</td>\n",
       "      <td>0.001</td>\n",
       "      <td>{'C': 1000, 'gamma': 0.001}</td>\n",
       "      <td>0.794643</td>\n",
       "      <td>0.764031</td>\n",
       "      <td>0.776786</td>\n",
       "      <td>...</td>\n",
       "      <td>0.774372</td>\n",
       "      <td>0.011138</td>\n",
       "      <td>4</td>\n",
       "      <td>0.778558</td>\n",
       "      <td>0.783982</td>\n",
       "      <td>0.780791</td>\n",
       "      <td>0.786284</td>\n",
       "      <td>0.777671</td>\n",
       "      <td>0.781457</td>\n",
       "      <td>0.003251</td>\n",
       "    </tr>\n",
       "    <tr>\n",
       "      <th>11</th>\n",
       "      <td>0.762163</td>\n",
       "      <td>0.115684</td>\n",
       "      <td>0.050171</td>\n",
       "      <td>0.001719</td>\n",
       "      <td>1000</td>\n",
       "      <td>0.0001</td>\n",
       "      <td>{'C': 1000, 'gamma': 0.0001}</td>\n",
       "      <td>0.765306</td>\n",
       "      <td>0.728316</td>\n",
       "      <td>0.762755</td>\n",
       "      <td>...</td>\n",
       "      <td>0.745784</td>\n",
       "      <td>0.016363</td>\n",
       "      <td>7</td>\n",
       "      <td>0.741225</td>\n",
       "      <td>0.750160</td>\n",
       "      <td>0.741544</td>\n",
       "      <td>0.745774</td>\n",
       "      <td>0.750558</td>\n",
       "      <td>0.745852</td>\n",
       "      <td>0.004017</td>\n",
       "    </tr>\n",
       "  </tbody>\n",
       "</table>\n",
       "<p>12 rows × 22 columns</p>\n",
       "</div>"
      ],
      "text/plain": [
       "    mean_fit_time  std_fit_time  mean_score_time  std_score_time param_C  \\\n",
       "0        0.374782      0.013059         0.049778        0.001159       1   \n",
       "1        0.374785      0.005761         0.050571        0.001019       1   \n",
       "2        0.275645      0.006309         0.048572        0.000799       1   \n",
       "3        0.403369      0.008683         0.050971        0.004042      10   \n",
       "4        0.415366      0.027915         0.048975        0.000894      10   \n",
       "5        0.374588      0.011132         0.052567        0.001486      10   \n",
       "6        0.730795      0.015093         0.048369        0.001847     100   \n",
       "7        0.495323      0.023871         0.049375        0.000802     100   \n",
       "8        0.721383      0.071988         0.068562        0.007224     100   \n",
       "9        2.577715      0.098415         0.047385        0.000485    1000   \n",
       "10       0.908487      0.117934         0.047376        0.000487    1000   \n",
       "11       0.762163      0.115684         0.050171        0.001719    1000   \n",
       "\n",
       "   param_gamma                        params  split0_test_score  \\\n",
       "0         0.01       {'C': 1, 'gamma': 0.01}           0.776786   \n",
       "1        0.001      {'C': 1, 'gamma': 0.001}           0.765306   \n",
       "2       0.0001     {'C': 1, 'gamma': 0.0001}           0.765306   \n",
       "3         0.01      {'C': 10, 'gamma': 0.01}           0.792092   \n",
       "4        0.001     {'C': 10, 'gamma': 0.001}           0.765306   \n",
       "5       0.0001    {'C': 10, 'gamma': 0.0001}           0.765306   \n",
       "6         0.01     {'C': 100, 'gamma': 0.01}           0.798469   \n",
       "7        0.001    {'C': 100, 'gamma': 0.001}           0.780612   \n",
       "8       0.0001   {'C': 100, 'gamma': 0.0001}           0.765306   \n",
       "9         0.01    {'C': 1000, 'gamma': 0.01}           0.798469   \n",
       "10       0.001   {'C': 1000, 'gamma': 0.001}           0.794643   \n",
       "11      0.0001  {'C': 1000, 'gamma': 0.0001}           0.765306   \n",
       "\n",
       "    split1_test_score  split2_test_score  ...  mean_test_score  \\\n",
       "0            0.734694           0.770408  ...         0.752674   \n",
       "1            0.728316           0.762755  ...         0.745784   \n",
       "2            0.728316           0.762755  ...         0.745784   \n",
       "3            0.765306           0.778061  ...         0.774882   \n",
       "4            0.728316           0.762755  ...         0.745784   \n",
       "5            0.728316           0.762755  ...         0.745784   \n",
       "6            0.771684           0.781888  ...         0.781519   \n",
       "7            0.744898           0.776786  ...         0.758033   \n",
       "8            0.728316           0.762755  ...         0.745784   \n",
       "9            0.781888           0.784439  ...         0.785347   \n",
       "10           0.764031           0.776786  ...         0.774372   \n",
       "11           0.728316           0.762755  ...         0.745784   \n",
       "\n",
       "    std_test_score  rank_test_score  split0_train_score  split1_train_score  \\\n",
       "0         0.018008                6            0.748883            0.755584   \n",
       "1         0.016363                7            0.740906            0.750160   \n",
       "2         0.016363                7            0.740906            0.750160   \n",
       "3         0.009765                3            0.779515            0.787811   \n",
       "4         0.016363                7            0.740906            0.750160   \n",
       "5         0.016363                7            0.740906            0.750160   \n",
       "6         0.009079                2            0.797064            0.804403   \n",
       "7         0.017494                5            0.763242            0.759413   \n",
       "8         0.016363                7            0.740906            0.750160   \n",
       "9         0.007256                1            0.821634            0.829611   \n",
       "10        0.011138                4            0.778558            0.783982   \n",
       "11        0.016363                7            0.741225            0.750160   \n",
       "\n",
       "    split2_train_score  split3_train_score  split4_train_score  \\\n",
       "0             0.757817            0.758214            0.753748   \n",
       "1             0.741544            0.745774            0.750558   \n",
       "2             0.741544            0.745774            0.750558   \n",
       "3             0.782068            0.786922            0.781499   \n",
       "4             0.741544            0.745774            0.750558   \n",
       "5             0.741544            0.745774            0.750558   \n",
       "6             0.797703            0.804147            0.801914   \n",
       "7             0.764199            0.763955            0.758852   \n",
       "8             0.741544            0.745774            0.750558   \n",
       "9             0.823548            0.823604            0.823923   \n",
       "10            0.780791            0.786284            0.777671   \n",
       "11            0.741544            0.745774            0.750558   \n",
       "\n",
       "    mean_train_score  std_train_score  \n",
       "0           0.754849         0.003390  \n",
       "1           0.745788         0.004092  \n",
       "2           0.745788         0.004092  \n",
       "3           0.783563         0.003231  \n",
       "4           0.745788         0.004092  \n",
       "5           0.745788         0.004092  \n",
       "6           0.801046         0.003120  \n",
       "7           0.761932         0.002314  \n",
       "8           0.745788         0.004092  \n",
       "9           0.824464         0.002697  \n",
       "10          0.781457         0.003251  \n",
       "11          0.745852         0.004017  \n",
       "\n",
       "[12 rows x 22 columns]"
      ]
     },
     "execution_count": 24,
     "metadata": {},
     "output_type": "execute_result"
    }
   ],
   "source": [
    "cv_results = pd.DataFrame(model_cv.cv_results_)\n",
    "cv_results"
   ]
  },
  {
   "cell_type": "code",
   "execution_count": 25,
   "metadata": {},
   "outputs": [
    {
     "data": {
      "image/png": "[encoded data removed]",
      "text/plain": [
       "<Figure size 1152x432 with 3 Axes>"
      ]
     },
     "metadata": {
      "needs_background": "light"
     },
     "output_type": "display_data"
    }
   ],
   "source": [
    "cv_results['param_C'] = cv_results['param_C'].astype('int')\n",
    "\n",
    "plt.figure(figsize=(16,6))\n",
    "\n",
    "#sbplot 1/3\n",
    "plt.subplot(131)\n",
    "gamma_01 = cv_results[cv_results['param_gamma']==0.01]\n",
    "\n",
    "plt.plot(gamma_01['param_C'],gamma_01['mean_test_score'])\n",
    "plt.plot(gamma_01['param_C'],gamma_01['mean_train_score'])\n",
    "plt.xlabel('C')\n",
    "plt.ylabel('Accuracy')\n",
    "plt.title('Gamma = 0.01')\n",
    "plt.ylim([0.50,1])\n",
    "plt.legend(['test accuracy', 'train accuracy'], loc = 'upper left')\n",
    "plt.xscale('log')\n",
    "\n",
    "#subplot 2/3\n",
    "plt.subplot(132)\n",
    "gamma_001 = cv_results[cv_results['param_gamma']==0.001]\n",
    "\n",
    "plt.plot(gamma_001['param_C'],gamma_001['mean_test_score'])\n",
    "plt.plot(gamma_001['param_C'],gamma_001['mean_train_score'])\n",
    "plt.xlabel('C')\n",
    "plt.ylabel('Accuracy')\n",
    "plt.title('Gamma = 0.001')\n",
    "plt.ylim([0.50,1])\n",
    "plt.legend(['test accuracy', 'train accuracy'], loc = 'upper left')\n",
    "plt.xscale('log')\n",
    "\n",
    "plt.subplot(133)\n",
    "gamma_0001 = cv_results[cv_results['param_gamma']==0.0001]\n",
    "\n",
    "plt.plot(gamma_0001['param_C'],gamma_0001['mean_test_score'])\n",
    "plt.plot(gamma_0001['param_C'],gamma_0001['mean_train_score'])\n",
    "plt.xlabel('C')\n",
    "plt.ylabel('Accuracy')\n",
    "plt.title('Gamma = 0.0001')\n",
    "plt.ylim([0.50,1])\n",
    "plt.legend(['test accuracy', 'train accuracy'], loc = 'upper left')\n",
    "plt.xscale('log')"
   ]
  },
  {
   "cell_type": "code",
   "execution_count": 26,
   "metadata": {},
   "outputs": [
    {
     "name": "stdout",
     "output_type": "stream",
     "text": [
      "The best test score is 0.7853474339927542 corresponding to hyper parameters {'C': 1000, 'gamma': 0.01}\n"
     ]
    }
   ],
   "source": [
    "best_score = model_cv.best_score_\n",
    "best_hyperparams = model_cv.best_params_\n",
    "\n",
    "print('The best test score is {0} corresponding to hyper parameters {1}'.format(best_score,best_hyperparams))"
   ]
  },
  {
   "cell_type": "markdown",
   "metadata": {},
   "source": [
    "## Resampling the data:"
   ]
  },
  {
   "cell_type": "code",
   "execution_count": 27,
   "metadata": {},
   "outputs": [],
   "source": [
    "x_resample,y_resample = SMOTE().fit_resample(X,y)"
   ]
  },
  {
   "cell_type": "code",
   "execution_count": 28,
   "metadata": {},
   "outputs": [],
   "source": [
    "np.savez('winequality.npz',x_resample,y_resample)"
   ]
  },
  {
   "cell_type": "code",
   "execution_count": 29,
   "metadata": {},
   "outputs": [
    {
     "data": {
      "text/plain": [
       "['arr_0', 'arr_1']"
      ]
     },
     "execution_count": 29,
     "metadata": {},
     "output_type": "execute_result"
    }
   ],
   "source": [
    "df_over = np.load('winequality.npz')\n",
    "df_over.files"
   ]
  },
  {
   "cell_type": "code",
   "execution_count": 30,
   "metadata": {},
   "outputs": [],
   "source": [
    "x_over = df_over['arr_0']\n",
    "y_over = df_over['arr_1']"
   ]
  },
  {
   "cell_type": "code",
   "execution_count": 31,
   "metadata": {},
   "outputs": [],
   "source": [
    "np.random.seed(1001)\n",
    "from sklearn.model_selection import train_test_split\n",
    "x_train,x_test,y_train,y_test = train_test_split(x_over,y_over,test_size = 0.2)"
   ]
  },
  {
   "cell_type": "code",
   "execution_count": 32,
   "metadata": {},
   "outputs": [
    {
     "data": {
      "text/plain": [
       "array([2, 2, 2, ..., 1, 1, 1])"
      ]
     },
     "execution_count": 32,
     "metadata": {},
     "output_type": "execute_result"
    }
   ],
   "source": [
    "y_over"
   ]
  },
  {
   "cell_type": "markdown",
   "metadata": {},
   "source": [
    "## Fitting the model after resampling"
   ]
  },
  {
   "cell_type": "code",
   "execution_count": 33,
   "metadata": {},
   "outputs": [],
   "source": [
    "model_over = SVC()"
   ]
  },
  {
   "cell_type": "code",
   "execution_count": 34,
   "metadata": {},
   "outputs": [],
   "source": [
    "hyper_params = [ {'gamma': [1e-2,1e-3,1e-4],\n",
    "                 'C': [1,10,100,1000]}]\n"
   ]
  },
  {
   "cell_type": "code",
   "execution_count": 35,
   "metadata": {},
   "outputs": [],
   "source": [
    "model_cv_over = GridSearchCV(estimator=model_over, param_grid=hyper_params,\n",
    "                       scoring='accuracy',\n",
    "                       cv = folds,\n",
    "                       verbose=1,\n",
    "                       return_train_score=True)"
   ]
  },
  {
   "cell_type": "code",
   "execution_count": 36,
   "metadata": {},
   "outputs": [
    {
     "name": "stdout",
     "output_type": "stream",
     "text": [
      "Fitting 5 folds for each of 12 candidates, totalling 60 fits\n"
     ]
    },
    {
     "name": "stderr",
     "output_type": "stream",
     "text": [
      "[Parallel(n_jobs=1)]: Using backend SequentialBackend with 1 concurrent workers.\n",
      "[Parallel(n_jobs=1)]: Done  60 out of  60 | elapsed:  5.0min finished\n"
     ]
    },
    {
     "data": {
      "text/plain": [
       "GridSearchCV(cv=KFold(n_splits=5, random_state=4, shuffle=True),\n",
       "             error_score=nan,\n",
       "             estimator=SVC(C=1.0, break_ties=False, cache_size=200,\n",
       "                           class_weight=None, coef0=0.0,\n",
       "                           decision_function_shape='ovr', degree=3,\n",
       "                           gamma='scale', kernel='rbf', max_iter=-1,\n",
       "                           probability=False, random_state=None, shrinking=True,\n",
       "                           tol=0.001, verbose=False),\n",
       "             iid='deprecated', n_jobs=None,\n",
       "             param_grid=[{'C': [1, 10, 100, 1000],\n",
       "                          'gamma': [0.01, 0.001, 0.0001]}],\n",
       "             pre_dispatch='2*n_jobs', refit=True, return_train_score=True,\n",
       "             scoring='accuracy', verbose=1)"
      ]
     },
     "execution_count": 36,
     "metadata": {},
     "output_type": "execute_result"
    }
   ],
   "source": [
    "model_cv_over.fit(x_train,y_train)"
   ]
  },
  {
   "cell_type": "code",
   "execution_count": 37,
   "metadata": {},
   "outputs": [],
   "source": [
    "y_pred_over = model_cv_over.predict(x_test)"
   ]
  },
  {
   "cell_type": "code",
   "execution_count": 38,
   "metadata": {},
   "outputs": [
    {
     "data": {
      "text/html": [
       "<div>\n",
       "<style scoped>\n",
       "    .dataframe tbody tr th:only-of-type {\n",
       "        vertical-align: middle;\n",
       "    }\n",
       "\n",
       "    .dataframe tbody tr th {\n",
       "        vertical-align: top;\n",
       "    }\n",
       "\n",
       "    .dataframe thead th {\n",
       "        text-align: right;\n",
       "    }\n",
       "</style>\n",
       "<table border=\"1\" class=\"dataframe\">\n",
       "  <thead>\n",
       "    <tr style=\"text-align: right;\">\n",
       "      <th></th>\n",
       "      <th>mean_fit_time</th>\n",
       "      <th>std_fit_time</th>\n",
       "      <th>mean_score_time</th>\n",
       "      <th>std_score_time</th>\n",
       "      <th>param_C</th>\n",
       "      <th>param_gamma</th>\n",
       "      <th>params</th>\n",
       "      <th>split0_test_score</th>\n",
       "      <th>split1_test_score</th>\n",
       "      <th>split2_test_score</th>\n",
       "      <th>...</th>\n",
       "      <th>mean_test_score</th>\n",
       "      <th>std_test_score</th>\n",
       "      <th>rank_test_score</th>\n",
       "      <th>split0_train_score</th>\n",
       "      <th>split1_train_score</th>\n",
       "      <th>split2_train_score</th>\n",
       "      <th>split3_train_score</th>\n",
       "      <th>split4_train_score</th>\n",
       "      <th>mean_train_score</th>\n",
       "      <th>std_train_score</th>\n",
       "    </tr>\n",
       "  </thead>\n",
       "  <tbody>\n",
       "    <tr>\n",
       "      <th>0</th>\n",
       "      <td>2.386230</td>\n",
       "      <td>0.248491</td>\n",
       "      <td>0.383784</td>\n",
       "      <td>0.041058</td>\n",
       "      <td>1</td>\n",
       "      <td>0.01</td>\n",
       "      <td>{'C': 1, 'gamma': 0.01}</td>\n",
       "      <td>0.704843</td>\n",
       "      <td>0.677493</td>\n",
       "      <td>0.682440</td>\n",
       "      <td>...</td>\n",
       "      <td>0.690150</td>\n",
       "      <td>0.010519</td>\n",
       "      <td>6</td>\n",
       "      <td>0.689896</td>\n",
       "      <td>0.694884</td>\n",
       "      <td>0.697207</td>\n",
       "      <td>0.692647</td>\n",
       "      <td>0.691935</td>\n",
       "      <td>0.693314</td>\n",
       "      <td>0.002516</td>\n",
       "    </tr>\n",
       "    <tr>\n",
       "      <th>1</th>\n",
       "      <td>2.613498</td>\n",
       "      <td>0.013478</td>\n",
       "      <td>0.377584</td>\n",
       "      <td>0.001166</td>\n",
       "      <td>1</td>\n",
       "      <td>0.001</td>\n",
       "      <td>{'C': 1, 'gamma': 0.001}</td>\n",
       "      <td>0.668376</td>\n",
       "      <td>0.639886</td>\n",
       "      <td>0.633409</td>\n",
       "      <td>...</td>\n",
       "      <td>0.648768</td>\n",
       "      <td>0.012052</td>\n",
       "      <td>10</td>\n",
       "      <td>0.647428</td>\n",
       "      <td>0.651703</td>\n",
       "      <td>0.657025</td>\n",
       "      <td>0.649045</td>\n",
       "      <td>0.649473</td>\n",
       "      <td>0.650935</td>\n",
       "      <td>0.003337</td>\n",
       "    </tr>\n",
       "    <tr>\n",
       "      <th>2</th>\n",
       "      <td>3.639120</td>\n",
       "      <td>0.075107</td>\n",
       "      <td>0.468328</td>\n",
       "      <td>0.030731</td>\n",
       "      <td>1</td>\n",
       "      <td>0.0001</td>\n",
       "      <td>{'C': 1, 'gamma': 0.0001}</td>\n",
       "      <td>0.610826</td>\n",
       "      <td>0.593162</td>\n",
       "      <td>0.588940</td>\n",
       "      <td>...</td>\n",
       "      <td>0.601459</td>\n",
       "      <td>0.010443</td>\n",
       "      <td>12</td>\n",
       "      <td>0.600399</td>\n",
       "      <td>0.606670</td>\n",
       "      <td>0.602593</td>\n",
       "      <td>0.601881</td>\n",
       "      <td>0.603163</td>\n",
       "      <td>0.602941</td>\n",
       "      <td>0.002081</td>\n",
       "    </tr>\n",
       "    <tr>\n",
       "      <th>3</th>\n",
       "      <td>1.986662</td>\n",
       "      <td>0.066346</td>\n",
       "      <td>0.306628</td>\n",
       "      <td>0.002472</td>\n",
       "      <td>10</td>\n",
       "      <td>0.01</td>\n",
       "      <td>{'C': 10, 'gamma': 0.01}</td>\n",
       "      <td>0.740741</td>\n",
       "      <td>0.723077</td>\n",
       "      <td>0.708096</td>\n",
       "      <td>...</td>\n",
       "      <td>0.727085</td>\n",
       "      <td>0.011053</td>\n",
       "      <td>3</td>\n",
       "      <td>0.731937</td>\n",
       "      <td>0.735927</td>\n",
       "      <td>0.738387</td>\n",
       "      <td>0.733970</td>\n",
       "      <td>0.733115</td>\n",
       "      <td>0.734667</td>\n",
       "      <td>0.002270</td>\n",
       "    </tr>\n",
       "    <tr>\n",
       "      <th>4</th>\n",
       "      <td>2.388033</td>\n",
       "      <td>0.255803</td>\n",
       "      <td>0.395570</td>\n",
       "      <td>0.055316</td>\n",
       "      <td>10</td>\n",
       "      <td>0.001</td>\n",
       "      <td>{'C': 10, 'gamma': 0.001}</td>\n",
       "      <td>0.676353</td>\n",
       "      <td>0.650142</td>\n",
       "      <td>0.650513</td>\n",
       "      <td>...</td>\n",
       "      <td>0.660966</td>\n",
       "      <td>0.010644</td>\n",
       "      <td>8</td>\n",
       "      <td>0.659256</td>\n",
       "      <td>0.665527</td>\n",
       "      <td>0.668852</td>\n",
       "      <td>0.662582</td>\n",
       "      <td>0.662154</td>\n",
       "      <td>0.663674</td>\n",
       "      <td>0.003264</td>\n",
       "    </tr>\n",
       "    <tr>\n",
       "      <th>5</th>\n",
       "      <td>2.839773</td>\n",
       "      <td>0.165698</td>\n",
       "      <td>0.413560</td>\n",
       "      <td>0.049625</td>\n",
       "      <td>10</td>\n",
       "      <td>0.0001</td>\n",
       "      <td>{'C': 10, 'gamma': 0.0001}</td>\n",
       "      <td>0.660399</td>\n",
       "      <td>0.641595</td>\n",
       "      <td>0.628278</td>\n",
       "      <td>...</td>\n",
       "      <td>0.644777</td>\n",
       "      <td>0.010355</td>\n",
       "      <td>11</td>\n",
       "      <td>0.642582</td>\n",
       "      <td>0.648140</td>\n",
       "      <td>0.653035</td>\n",
       "      <td>0.644486</td>\n",
       "      <td>0.644771</td>\n",
       "      <td>0.646603</td>\n",
       "      <td>0.003681</td>\n",
       "    </tr>\n",
       "    <tr>\n",
       "      <th>6</th>\n",
       "      <td>3.172987</td>\n",
       "      <td>0.098525</td>\n",
       "      <td>0.285634</td>\n",
       "      <td>0.021244</td>\n",
       "      <td>100</td>\n",
       "      <td>0.01</td>\n",
       "      <td>{'C': 100, 'gamma': 0.01}</td>\n",
       "      <td>0.782336</td>\n",
       "      <td>0.760684</td>\n",
       "      <td>0.766249</td>\n",
       "      <td>...</td>\n",
       "      <td>0.770178</td>\n",
       "      <td>0.007692</td>\n",
       "      <td>2</td>\n",
       "      <td>0.784381</td>\n",
       "      <td>0.791506</td>\n",
       "      <td>0.792533</td>\n",
       "      <td>0.785694</td>\n",
       "      <td>0.786834</td>\n",
       "      <td>0.788190</td>\n",
       "      <td>0.003239</td>\n",
       "    </tr>\n",
       "    <tr>\n",
       "      <th>7</th>\n",
       "      <td>2.317869</td>\n",
       "      <td>0.045974</td>\n",
       "      <td>0.340005</td>\n",
       "      <td>0.021391</td>\n",
       "      <td>100</td>\n",
       "      <td>0.001</td>\n",
       "      <td>{'C': 100, 'gamma': 0.001}</td>\n",
       "      <td>0.699715</td>\n",
       "      <td>0.679202</td>\n",
       "      <td>0.683010</td>\n",
       "      <td>...</td>\n",
       "      <td>0.690493</td>\n",
       "      <td>0.009495</td>\n",
       "      <td>5</td>\n",
       "      <td>0.691464</td>\n",
       "      <td>0.698162</td>\n",
       "      <td>0.696352</td>\n",
       "      <td>0.693217</td>\n",
       "      <td>0.690225</td>\n",
       "      <td>0.693884</td>\n",
       "      <td>0.002969</td>\n",
       "    </tr>\n",
       "    <tr>\n",
       "      <th>8</th>\n",
       "      <td>2.386230</td>\n",
       "      <td>0.057389</td>\n",
       "      <td>0.362002</td>\n",
       "      <td>0.015520</td>\n",
       "      <td>100</td>\n",
       "      <td>0.0001</td>\n",
       "      <td>{'C': 100, 'gamma': 0.0001}</td>\n",
       "      <td>0.664957</td>\n",
       "      <td>0.643875</td>\n",
       "      <td>0.636260</td>\n",
       "      <td>...</td>\n",
       "      <td>0.648882</td>\n",
       "      <td>0.009508</td>\n",
       "      <td>9</td>\n",
       "      <td>0.645433</td>\n",
       "      <td>0.654126</td>\n",
       "      <td>0.653605</td>\n",
       "      <td>0.649900</td>\n",
       "      <td>0.652038</td>\n",
       "      <td>0.651020</td>\n",
       "      <td>0.003157</td>\n",
       "    </tr>\n",
       "    <tr>\n",
       "      <th>9</th>\n",
       "      <td>9.340051</td>\n",
       "      <td>0.261748</td>\n",
       "      <td>0.238470</td>\n",
       "      <td>0.002411</td>\n",
       "      <td>1000</td>\n",
       "      <td>0.01</td>\n",
       "      <td>{'C': 1000, 'gamma': 0.01}</td>\n",
       "      <td>0.825071</td>\n",
       "      <td>0.806268</td>\n",
       "      <td>0.812429</td>\n",
       "      <td>...</td>\n",
       "      <td>0.815777</td>\n",
       "      <td>0.006328</td>\n",
       "      <td>1</td>\n",
       "      <td>0.839818</td>\n",
       "      <td>0.844235</td>\n",
       "      <td>0.844258</td>\n",
       "      <td>0.842548</td>\n",
       "      <td>0.843118</td>\n",
       "      <td>0.842795</td>\n",
       "      <td>0.001628</td>\n",
       "    </tr>\n",
       "    <tr>\n",
       "      <th>10</th>\n",
       "      <td>3.931548</td>\n",
       "      <td>0.068532</td>\n",
       "      <td>0.309029</td>\n",
       "      <td>0.006173</td>\n",
       "      <td>1000</td>\n",
       "      <td>0.001</td>\n",
       "      <td>{'C': 1000, 'gamma': 0.001}</td>\n",
       "      <td>0.732194</td>\n",
       "      <td>0.707123</td>\n",
       "      <td>0.697834</td>\n",
       "      <td>...</td>\n",
       "      <td>0.716255</td>\n",
       "      <td>0.012213</td>\n",
       "      <td>4</td>\n",
       "      <td>0.723671</td>\n",
       "      <td>0.723956</td>\n",
       "      <td>0.730835</td>\n",
       "      <td>0.726560</td>\n",
       "      <td>0.721288</td>\n",
       "      <td>0.725262</td>\n",
       "      <td>0.003249</td>\n",
       "    </tr>\n",
       "    <tr>\n",
       "      <th>11</th>\n",
       "      <td>2.728636</td>\n",
       "      <td>0.072064</td>\n",
       "      <td>0.346799</td>\n",
       "      <td>0.003348</td>\n",
       "      <td>1000</td>\n",
       "      <td>0.0001</td>\n",
       "      <td>{'C': 1000, 'gamma': 0.0001}</td>\n",
       "      <td>0.682051</td>\n",
       "      <td>0.651852</td>\n",
       "      <td>0.659635</td>\n",
       "      <td>...</td>\n",
       "      <td>0.666211</td>\n",
       "      <td>0.010755</td>\n",
       "      <td>7</td>\n",
       "      <td>0.663104</td>\n",
       "      <td>0.670657</td>\n",
       "      <td>0.670846</td>\n",
       "      <td>0.666002</td>\n",
       "      <td>0.666999</td>\n",
       "      <td>0.667522</td>\n",
       "      <td>0.002932</td>\n",
       "    </tr>\n",
       "  </tbody>\n",
       "</table>\n",
       "<p>12 rows × 22 columns</p>\n",
       "</div>"
      ],
      "text/plain": [
       "    mean_fit_time  std_fit_time  mean_score_time  std_score_time param_C  \\\n",
       "0        2.386230      0.248491         0.383784        0.041058       1   \n",
       "1        2.613498      0.013478         0.377584        0.001166       1   \n",
       "2        3.639120      0.075107         0.468328        0.030731       1   \n",
       "3        1.986662      0.066346         0.306628        0.002472      10   \n",
       "4        2.388033      0.255803         0.395570        0.055316      10   \n",
       "5        2.839773      0.165698         0.413560        0.049625      10   \n",
       "6        3.172987      0.098525         0.285634        0.021244     100   \n",
       "7        2.317869      0.045974         0.340005        0.021391     100   \n",
       "8        2.386230      0.057389         0.362002        0.015520     100   \n",
       "9        9.340051      0.261748         0.238470        0.002411    1000   \n",
       "10       3.931548      0.068532         0.309029        0.006173    1000   \n",
       "11       2.728636      0.072064         0.346799        0.003348    1000   \n",
       "\n",
       "   param_gamma                        params  split0_test_score  \\\n",
       "0         0.01       {'C': 1, 'gamma': 0.01}           0.704843   \n",
       "1        0.001      {'C': 1, 'gamma': 0.001}           0.668376   \n",
       "2       0.0001     {'C': 1, 'gamma': 0.0001}           0.610826   \n",
       "3         0.01      {'C': 10, 'gamma': 0.01}           0.740741   \n",
       "4        0.001     {'C': 10, 'gamma': 0.001}           0.676353   \n",
       "5       0.0001    {'C': 10, 'gamma': 0.0001}           0.660399   \n",
       "6         0.01     {'C': 100, 'gamma': 0.01}           0.782336   \n",
       "7        0.001    {'C': 100, 'gamma': 0.001}           0.699715   \n",
       "8       0.0001   {'C': 100, 'gamma': 0.0001}           0.664957   \n",
       "9         0.01    {'C': 1000, 'gamma': 0.01}           0.825071   \n",
       "10       0.001   {'C': 1000, 'gamma': 0.001}           0.732194   \n",
       "11      0.0001  {'C': 1000, 'gamma': 0.0001}           0.682051   \n",
       "\n",
       "    split1_test_score  split2_test_score  ...  mean_test_score  \\\n",
       "0            0.677493           0.682440  ...         0.690150   \n",
       "1            0.639886           0.633409  ...         0.648768   \n",
       "2            0.593162           0.588940  ...         0.601459   \n",
       "3            0.723077           0.708096  ...         0.727085   \n",
       "4            0.650142           0.650513  ...         0.660966   \n",
       "5            0.641595           0.628278  ...         0.644777   \n",
       "6            0.760684           0.766249  ...         0.770178   \n",
       "7            0.679202           0.683010  ...         0.690493   \n",
       "8            0.643875           0.636260  ...         0.648882   \n",
       "9            0.806268           0.812429  ...         0.815777   \n",
       "10           0.707123           0.697834  ...         0.716255   \n",
       "11           0.651852           0.659635  ...         0.666211   \n",
       "\n",
       "    std_test_score  rank_test_score  split0_train_score  split1_train_score  \\\n",
       "0         0.010519                6            0.689896            0.694884   \n",
       "1         0.012052               10            0.647428            0.651703   \n",
       "2         0.010443               12            0.600399            0.606670   \n",
       "3         0.011053                3            0.731937            0.735927   \n",
       "4         0.010644                8            0.659256            0.665527   \n",
       "5         0.010355               11            0.642582            0.648140   \n",
       "6         0.007692                2            0.784381            0.791506   \n",
       "7         0.009495                5            0.691464            0.698162   \n",
       "8         0.009508                9            0.645433            0.654126   \n",
       "9         0.006328                1            0.839818            0.844235   \n",
       "10        0.012213                4            0.723671            0.723956   \n",
       "11        0.010755                7            0.663104            0.670657   \n",
       "\n",
       "    split2_train_score  split3_train_score  split4_train_score  \\\n",
       "0             0.697207            0.692647            0.691935   \n",
       "1             0.657025            0.649045            0.649473   \n",
       "2             0.602593            0.601881            0.603163   \n",
       "3             0.738387            0.733970            0.733115   \n",
       "4             0.668852            0.662582            0.662154   \n",
       "5             0.653035            0.644486            0.644771   \n",
       "6             0.792533            0.785694            0.786834   \n",
       "7             0.696352            0.693217            0.690225   \n",
       "8             0.653605            0.649900            0.652038   \n",
       "9             0.844258            0.842548            0.843118   \n",
       "10            0.730835            0.726560            0.721288   \n",
       "11            0.670846            0.666002            0.666999   \n",
       "\n",
       "    mean_train_score  std_train_score  \n",
       "0           0.693314         0.002516  \n",
       "1           0.650935         0.003337  \n",
       "2           0.602941         0.002081  \n",
       "3           0.734667         0.002270  \n",
       "4           0.663674         0.003264  \n",
       "5           0.646603         0.003681  \n",
       "6           0.788190         0.003239  \n",
       "7           0.693884         0.002969  \n",
       "8           0.651020         0.003157  \n",
       "9           0.842795         0.001628  \n",
       "10          0.725262         0.003249  \n",
       "11          0.667522         0.002932  \n",
       "\n",
       "[12 rows x 22 columns]"
      ]
     },
     "execution_count": 38,
     "metadata": {},
     "output_type": "execute_result"
    }
   ],
   "source": [
    "cv_results_over = pd.DataFrame(model_cv_over.cv_results_)\n",
    "cv_results_over"
   ]
  },
  {
   "cell_type": "code",
   "execution_count": 43,
   "metadata": {},
   "outputs": [
    {
     "data": {
      "image/png": "[encoded data removed]",
      "text/plain": [
       "<Figure size 1152x432 with 3 Axes>"
      ]
     },
     "metadata": {
      "needs_background": "light"
     },
     "output_type": "display_data"
    }
   ],
   "source": [
    "cv_results_over['param_C'] = cv_results_over['param_C'].astype('int')\n",
    "\n",
    "plt.figure(figsize=(16,6))\n",
    "\n",
    "#sbplot 1/3\n",
    "plt.subplot(131)\n",
    "gamma_01 = cv_results_over[cv_results_over['param_gamma']==0.01]\n",
    "\n",
    "plt.plot(gamma_01['param_C'],gamma_01['mean_test_score'])\n",
    "plt.plot(gamma_01['param_C'],gamma_01['mean_train_score'])\n",
    "plt.xlabel('C')\n",
    "plt.ylabel('Accuracy')\n",
    "plt.title('Gamma = 0.01')\n",
    "plt.ylim([0.50,1])\n",
    "plt.legend(['test accuracy', 'train accuracy'], loc = 'upper left')\n",
    "plt.xscale('log')\n",
    "\n",
    "#subplot 2/3\n",
    "plt.subplot(132)\n",
    "gamma_001 = cv_results_over[cv_results_over['param_gamma']==0.001]\n",
    "\n",
    "plt.plot(gamma_001['param_C'],gamma_001['mean_test_score'])\n",
    "plt.plot(gamma_001['param_C'],gamma_001['mean_train_score'])\n",
    "plt.xlabel('C')\n",
    "plt.ylabel('Accuracy')\n",
    "plt.title('Gamma = 0.001')\n",
    "plt.ylim([0.50,1])\n",
    "plt.legend(['test accuracy', 'train accuracy'], loc = 'upper left')\n",
    "plt.xscale('log')\n",
    "\n",
    "plt.subplot(133)\n",
    "gamma_0001 = cv_results_over[cv_results_over['param_gamma']==0.0001]\n",
    "\n",
    "plt.plot(gamma_0001['param_C'],gamma_0001['mean_test_score'])\n",
    "plt.plot(gamma_0001['param_C'],gamma_0001['mean_train_score'])\n",
    "plt.xlabel('C')\n",
    "plt.ylabel('Accuracy')\n",
    "plt.title('Gamma = 0.0001')\n",
    "plt.ylim([0.50,1])\n",
    "plt.legend(['test accuracy', 'train accuracy'], loc = 'upper left')\n",
    "plt.xscale('log')"
   ]
  },
  {
   "cell_type": "code",
   "execution_count": 40,
   "metadata": {},
   "outputs": [
    {
     "name": "stdout",
     "output_type": "stream",
     "text": [
      "The best test score is 0.8157774984000753 corresponding to hyper parameters {'C': 1000, 'gamma': 0.01}\n"
     ]
    }
   ],
   "source": [
    "best_score = model_cv_over.best_score_\n",
    "best_hyperparams = model_cv_over.best_params_\n",
    "\n",
    "print('The best test score is {0} corresponding to hyper parameters {1}'.format(best_score,best_hyperparams))"
   ]
  },
  {
   "cell_type": "code",
   "execution_count": null,
   "metadata": {},
   "outputs": [],
   "source": []
  }
 ],
 "metadata": {
  "kernelspec": {
   "display_name": "Python 3",
   "language": "python",
   "name": "python3"
  },
  "language_info": {
   "codemirror_mode": {
    "name": "ipython",
    "version": 3
   },
   "file_extension": ".py",
   "mimetype": "text/x-python",
   "name": "python",
   "nbconvert_exporter": "python",
   "pygments_lexer": "ipython3",
   "version": "3.7.3"
  }
 },
 "nbformat": 4,
 "nbformat_minor": 2
}
